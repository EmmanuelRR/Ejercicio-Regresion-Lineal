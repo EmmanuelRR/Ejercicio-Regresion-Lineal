{
 "cells": [
  {
   "cell_type": "code",
   "execution_count": 1,
   "id": "38aae780",
   "metadata": {},
   "outputs": [],
   "source": [
    "import pandas as pd\n",
    "import numpy as np"
   ]
  },
  {
   "cell_type": "code",
   "execution_count": 2,
   "id": "b4cc633e",
   "metadata": {},
   "outputs": [],
   "source": [
    "peliculasN=pd.read_csv('C://Users//Emmanuel//Documents//movies.csv').select_dtypes(np.number).fillna(0)"
   ]
  },
  {
   "cell_type": "code",
   "execution_count": 16,
   "id": "659d48b4",
   "metadata": {},
   "outputs": [
    {
     "data": {
      "text/html": [
       "<div>\n",
       "<style scoped>\n",
       "    .dataframe tbody tr th:only-of-type {\n",
       "        vertical-align: middle;\n",
       "    }\n",
       "\n",
       "    .dataframe tbody tr th {\n",
       "        vertical-align: top;\n",
       "    }\n",
       "\n",
       "    .dataframe thead th {\n",
       "        text-align: right;\n",
       "    }\n",
       "</style>\n",
       "<table border=\"1\" class=\"dataframe\">\n",
       "  <thead>\n",
       "    <tr style=\"text-align: right;\">\n",
       "      <th></th>\n",
       "      <th>presupuesto</th>\n",
       "      <th>popularidad</th>\n",
       "      <th>ventas</th>\n",
       "      <th>duracion</th>\n",
       "      <th>puntuacion</th>\n",
       "      <th>n_votos</th>\n",
       "    </tr>\n",
       "  </thead>\n",
       "  <tbody>\n",
       "    <tr>\n",
       "      <th>0</th>\n",
       "      <td>0.0</td>\n",
       "      <td>8.387519</td>\n",
       "      <td>76578911.0</td>\n",
       "      <td>106.0</td>\n",
       "      <td>5.7</td>\n",
       "      <td>173.0</td>\n",
       "    </tr>\n",
       "    <tr>\n",
       "      <th>1</th>\n",
       "      <td>0.0</td>\n",
       "      <td>0.894647</td>\n",
       "      <td>676525.0</td>\n",
       "      <td>106.0</td>\n",
       "      <td>6.7</td>\n",
       "      <td>13.0</td>\n",
       "    </tr>\n",
       "    <tr>\n",
       "      <th>2</th>\n",
       "      <td>3500000.0</td>\n",
       "      <td>14.569650</td>\n",
       "      <td>28215918.0</td>\n",
       "      <td>91.0</td>\n",
       "      <td>7.0</td>\n",
       "      <td>513.0</td>\n",
       "    </tr>\n",
       "    <tr>\n",
       "      <th>3</th>\n",
       "      <td>0.0</td>\n",
       "      <td>8.963037</td>\n",
       "      <td>32.0</td>\n",
       "      <td>87.0</td>\n",
       "      <td>6.0</td>\n",
       "      <td>124.0</td>\n",
       "    </tr>\n",
       "    <tr>\n",
       "      <th>4</th>\n",
       "      <td>12000000.0</td>\n",
       "      <td>9.592265</td>\n",
       "      <td>41205099.0</td>\n",
       "      <td>92.0</td>\n",
       "      <td>6.5</td>\n",
       "      <td>767.0</td>\n",
       "    </tr>\n",
       "    <tr>\n",
       "      <th>...</th>\n",
       "      <td>...</td>\n",
       "      <td>...</td>\n",
       "      <td>...</td>\n",
       "      <td>...</td>\n",
       "      <td>...</td>\n",
       "      <td>...</td>\n",
       "    </tr>\n",
       "    <tr>\n",
       "      <th>1344</th>\n",
       "      <td>0.0</td>\n",
       "      <td>1.642247</td>\n",
       "      <td>0.0</td>\n",
       "      <td>86.0</td>\n",
       "      <td>3.0</td>\n",
       "      <td>25.0</td>\n",
       "    </tr>\n",
       "    <tr>\n",
       "      <th>1345</th>\n",
       "      <td>0.0</td>\n",
       "      <td>0.352816</td>\n",
       "      <td>0.0</td>\n",
       "      <td>11.0</td>\n",
       "      <td>5.5</td>\n",
       "      <td>2.0</td>\n",
       "    </tr>\n",
       "    <tr>\n",
       "      <th>1346</th>\n",
       "      <td>0.0</td>\n",
       "      <td>0.110588</td>\n",
       "      <td>0.0</td>\n",
       "      <td>86.0</td>\n",
       "      <td>5.7</td>\n",
       "      <td>3.0</td>\n",
       "    </tr>\n",
       "    <tr>\n",
       "      <th>1347</th>\n",
       "      <td>0.0</td>\n",
       "      <td>9.742082</td>\n",
       "      <td>0.0</td>\n",
       "      <td>90.0</td>\n",
       "      <td>5.7</td>\n",
       "      <td>62.0</td>\n",
       "    </tr>\n",
       "    <tr>\n",
       "      <th>1348</th>\n",
       "      <td>0.0</td>\n",
       "      <td>0.121946</td>\n",
       "      <td>0.0</td>\n",
       "      <td>0.0</td>\n",
       "      <td>6.0</td>\n",
       "      <td>1.0</td>\n",
       "    </tr>\n",
       "  </tbody>\n",
       "</table>\n",
       "<p>1349 rows × 6 columns</p>\n",
       "</div>"
      ],
      "text/plain": [
       "      presupuesto  popularidad      ventas  duracion  puntuacion  n_votos\n",
       "0             0.0     8.387519  76578911.0     106.0         5.7    173.0\n",
       "1             0.0     0.894647    676525.0     106.0         6.7     13.0\n",
       "2       3500000.0    14.569650  28215918.0      91.0         7.0    513.0\n",
       "3             0.0     8.963037        32.0      87.0         6.0    124.0\n",
       "4      12000000.0     9.592265  41205099.0      92.0         6.5    767.0\n",
       "...           ...          ...         ...       ...         ...      ...\n",
       "1344          0.0     1.642247         0.0      86.0         3.0     25.0\n",
       "1345          0.0     0.352816         0.0      11.0         5.5      2.0\n",
       "1346          0.0     0.110588         0.0      86.0         5.7      3.0\n",
       "1347          0.0     9.742082         0.0      90.0         5.7     62.0\n",
       "1348          0.0     0.121946         0.0       0.0         6.0      1.0\n",
       "\n",
       "[1349 rows x 6 columns]"
      ]
     },
     "execution_count": 16,
     "metadata": {},
     "output_type": "execute_result"
    }
   ],
   "source": [
    "peliculasN"
   ]
  },
  {
   "cell_type": "code",
   "execution_count": 11,
   "id": "b808a8ce",
   "metadata": {},
   "outputs": [],
   "source": [
    "from sklearn.linear_model import (LinearRegression,Lasso, Ridge, ElasticNet)\n",
    "from sklearn.model_selection import cross_val_score\n",
    "from sklearn.metrics import mean_squared_error"
   ]
  },
  {
   "cell_type": "markdown",
   "id": "c49fce26",
   "metadata": {},
   "source": [
    "modelo_peliculas=LinearRegression()"
   ]
  },
  {
   "cell_type": "code",
   "execution_count": 21,
   "id": "8e7da8a9",
   "metadata": {},
   "outputs": [],
   "source": [
    "modelo_peliculas_linear=LinearRegression()\n",
    "modelo_peliculas_lasso=Lasso()\n",
    "modelo_peliculas_ridge=Ridge()\n",
    "modelo_peliculas_Elastic=ElasticNet()"
   ]
  },
  {
   "cell_type": "code",
   "execution_count": 22,
   "id": "db27e4bc",
   "metadata": {},
   "outputs": [],
   "source": [
    "X=peliculasN.drop(columns='ventas')\n"
   ]
  },
  {
   "cell_type": "code",
   "execution_count": 23,
   "id": "95c472d6",
   "metadata": {},
   "outputs": [],
   "source": [
    "y=peliculasN['ventas']\n"
   ]
  },
  {
   "cell_type": "code",
   "execution_count": 26,
   "id": "13ead855",
   "metadata": {},
   "outputs": [],
   "source": [
    "def rmse_cross_val(estimador, X, y):\n",
    "    y_pred=estimador.predict(X)\n",
    "    return np.sqrt(mean_squared_error(y,y_pred))\n",
    "def evaluar_modelo(estimador, X, y):\n",
    "    return cross_val_score(estimator=estimador, X=X, y=y, scoring=rmse_cross_val, cv=5).mean()\n",
    "    "
   ]
  },
  {
   "cell_type": "code",
   "execution_count": 13,
   "id": "3935f1e4",
   "metadata": {},
   "outputs": [],
   "source": [
    "Resultados={}"
   ]
  },
  {
   "cell_type": "code",
   "execution_count": 27,
   "id": "dbfd9c9c",
   "metadata": {
    "scrolled": true
   },
   "outputs": [],
   "source": [
    "Resultados['Lineal']= evaluar_modelo(modelo_peliculas_linear, X, y)\n",
    "Resultados['Lasso']=evaluar_modelo(modelo_peliculas_lasso, X, y)\n",
    "Resultados['Ridge']=evaluar_modelo(modelo_peliculas_ridge, X, y)\n",
    "Resultados['Elastic']=evaluar_modelo(modelo_peliculas_Elastic, X, y)\n",
    "\n"
   ]
  },
  {
   "cell_type": "code",
   "execution_count": 28,
   "id": "1f33fa60",
   "metadata": {},
   "outputs": [
    {
     "data": {
      "text/plain": [
       "{'Lineal': 38057206.324066505,\n",
       " 'Lasso': 38057206.30111999,\n",
       " 'Ridge': 38057185.378365085,\n",
       " 'Elastic': 38047140.16954851}"
      ]
     },
     "execution_count": 28,
     "metadata": {},
     "output_type": "execute_result"
    }
   ],
   "source": [
    "Resultados"
   ]
  },
  {
   "cell_type": "code",
   "execution_count": null,
   "id": "4772817e",
   "metadata": {},
   "outputs": [],
   "source": []
  }
 ],
 "metadata": {
  "kernelspec": {
   "display_name": "Python 3 (ipykernel)",
   "language": "python",
   "name": "python3"
  },
  "language_info": {
   "codemirror_mode": {
    "name": "ipython",
    "version": 3
   },
   "file_extension": ".py",
   "mimetype": "text/x-python",
   "name": "python",
   "nbconvert_exporter": "python",
   "pygments_lexer": "ipython3",
   "version": "3.9.7"
  }
 },
 "nbformat": 4,
 "nbformat_minor": 5
}
